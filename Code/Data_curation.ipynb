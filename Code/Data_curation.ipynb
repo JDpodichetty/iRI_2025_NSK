{
 "cells": [
  {
   "cell_type": "code",
   "execution_count": null,
   "id": "a521db8a",
   "metadata": {},
   "outputs": [],
   "source": [
    "# Data Curation notebook "
   ]
  },
  {
   "cell_type": "code",
   "execution_count": 1,
   "id": "376955c1",
   "metadata": {},
   "outputs": [
    {
     "name": "stdout",
     "output_type": "stream",
     "text": [
      "iResearch\n"
     ]
    }
   ],
   "source": [
    "print (\"iResearch\")"
   ]
  }
 ],
 "metadata": {
  "kernelspec": {
   "display_name": "iRI_2025_NSK",
   "language": "python",
   "name": "python3"
  },
  "language_info": {
   "codemirror_mode": {
    "name": "ipython",
    "version": 3
   },
   "file_extension": ".py",
   "mimetype": "text/x-python",
   "name": "python",
   "nbconvert_exporter": "python",
   "pygments_lexer": "ipython3",
   "version": "3.13.0"
  }
 },
 "nbformat": 4,
 "nbformat_minor": 5
}
